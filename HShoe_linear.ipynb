{
 "cells": [
  {
   "cell_type": "code",
   "execution_count": 1,
   "metadata": {},
   "outputs": [],
   "source": [
    "import airfoils as af\n",
    "import matplotlib.pyplot as plt\n",
    "import numpy as np\n",
    "import potential as pot\n",
    "from wing import Wing"
   ]
  },
  {
   "attachments": {},
   "cell_type": "markdown",
   "metadata": {},
   "source": [
    "# Airfoil"
   ]
  },
  {
   "cell_type": "code",
   "execution_count": 2,
   "metadata": {},
   "outputs": [
    {
     "data": {
      "image/png": "[encoded data removed]",
      "text/plain": [
       "<Figure size 640x480 with 1 Axes>"
      ]
     },
     "metadata": {},
     "output_type": "display_data"
    }
   ],
   "source": [
    "airfoil = af.Airfoil.NACA4(\"2412\", n_points=100)\n",
    "af_xs, af_ys = airfoil.all_points\n",
    "plt.scatter(af_xs, af_ys, 1)\n",
    "plt.axis('scaled')\n",
    "\n",
    "alpha0 = -2 * np.pi / 180"
   ]
  },
  {
   "attachments": {},
   "cell_type": "markdown",
   "metadata": {},
   "source": [
    "# Polar Formulation"
   ]
  },
  {
   "attachments": {
    "image-2.png": {
     "image/png": "[encoded data removed]"
    }
   },
   "cell_type": "markdown",
   "metadata": {},
   "source": [
    "![image.png](attachment:image-2.png)"
   ]
  },
  {
   "attachments": {},
   "cell_type": "markdown",
   "metadata": {},
   "source": [
    "## Wing Geometry"
   ]
  },
  {
   "cell_type": "code",
   "execution_count": 3,
   "metadata": {},
   "outputs": [],
   "source": [
    "def linSpan(sp, Ni):\n",
    "    return np.linspace(0, sp, Ni)\n",
    "\n",
    "def uniformChord(Ni, ch=1):\n",
    "    return ch * np.ones(Ni)\n",
    "\n",
    "def logSpan(sp, Ni):\n",
    "    return np.hstack((0,np.geomspace(1e-1, sp, Ni-1)))\n",
    "\n",
    "def goodSpan(sp, Ni):\n",
    "    epsilon = 1e-1\n",
    "    Ni = int(Ni/2)\n",
    "    left = np.geomspace(1e-3, sp/2 -epsilon, Ni)\n",
    "    right = sp/2 + left\n",
    "    left = sp/2 - left\n",
    "    return np.hstack((left,right))\n",
    "\n",
    "def sinSpan(sp, Ni):\n",
    "    lin = np.linspace(0, np.pi/2, Ni)\n",
    "    sin = np.sin(lin)\n",
    "    return sin * sp\n"
   ]
  },
  {
   "attachments": {},
   "cell_type": "markdown",
   "metadata": {},
   "source": [
    "## Discretization and Grid Generation"
   ]
  },
  {
   "cell_type": "code",
   "execution_count": 4,
   "metadata": {},
   "outputs": [],
   "source": [
    "N = 69\n",
    "M = 2\n",
    "%matplotlib qt\n",
    "wg = Wing(\n",
    "    airfoil=airfoil,\n",
    "    isSymmetric=True,\n",
    "    span=6,\n",
    "    alpha=2,\n",
    "    beta=0,\n",
    "    Ni=N,\n",
    "    Nj=M,\n",
    "    sweepOffset=0,\n",
    "    dihAngle=0,\n",
    "    chordFun=uniformChord,\n",
    "    spanFun=linSpan\n",
    ")"
   ]
  },
  {
   "attachments": {},
   "cell_type": "markdown",
   "metadata": {},
   "source": [
    "## Wind"
   ]
  },
  {
   "cell_type": "code",
   "execution_count": 5,
   "metadata": {},
   "outputs": [],
   "source": [
    "Umag = 16\n",
    "dens = 1.2"
   ]
  },
  {
   "attachments": {},
   "cell_type": "markdown",
   "metadata": {},
   "source": [
    "## Solve"
   ]
  },
  {
   "cell_type": "code",
   "execution_count": 6,
   "metadata": {},
   "outputs": [
    {
     "name": "stdout",
     "output_type": "stream",
     "text": [
      "L:294.5556057272089\t|\tD:5.116715700026303\n",
      "CL:0.1598066437322097\t|\tCD_ind:0.0027759959310038537\n"
     ]
    }
   ],
   "source": [
    "L, D, Gammas, w_ind = wg.solveWing(alpha0, Umag, dens, pot.hshoe2)\n",
    "\n",
    "print(f\"L:{L}\\t|\\tD:{D}\")\n",
    "print(f\"CL:{L/(dens*(Umag**2)*wg.wingArea)}\\t|\\tCD_ind:{D/(dens*(Umag**2)*wg.wingArea)}\")\n"
   ]
  },
  {
   "cell_type": "code",
   "execution_count": 7,
   "metadata": {},
   "outputs": [],
   "source": [
    "fig, (ax1, ax2) = plt.subplots(1, 2, figsize=(14, 6))\n",
    "fig.suptitle('Results')\n",
    "\n",
    "ax1.plot((wg.Dspan[1:] + wg.Dspan[:-1])/2, Gammas)\n",
    "ax1.set_xlabel(\"span\")\n",
    "ax1.set_title(\"Gamma\")\n",
    "ax1.minorticks_on()\n",
    "ax1.grid()\n",
    "\n",
    "ax2.plot((wg.Dspan[1:] + wg.Dspan[:-1])/2, (w_ind/Umag) * 180 / np.pi)\n",
    "ax2.set_xlabel(\"span\")\n",
    "ax2.set_title(\"w_ind\")\n",
    "ax2.minorticks_on()\n",
    "ax2.grid()\n"
   ]
  },
  {
   "cell_type": "code",
   "execution_count": null,
   "metadata": {},
   "outputs": [],
   "source": []
  }
 ],
 "metadata": {
  "kernelspec": {
   "display_name": "aero",
   "language": "python",
   "name": "python3"
  },
  "language_info": {
   "codemirror_mode": {
    "name": "ipython",
    "version": 3
   },
   "file_extension": ".py",
   "mimetype": "text/x-python",
   "name": "python",
   "nbconvert_exporter": "python",
   "pygments_lexer": "ipython3",
   "version": "3.10.8"
  },
  "orig_nbformat": 4
 },
 "nbformat": 4,
 "nbformat_minor": 2
}
