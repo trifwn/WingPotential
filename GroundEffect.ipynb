{
 "cells": [
  {
   "cell_type": "code",
   "execution_count": 21,
   "metadata": {},
   "outputs": [],
   "source": [
    "import airfoils as af\n",
    "import matplotlib.pyplot as plt\n",
    "import numpy as np\n",
    "import potential as pot\n",
    "from wing import Wing"
   ]
  },
  {
   "attachments": {},
   "cell_type": "markdown",
   "metadata": {},
   "source": [
    "# Airfoil"
   ]
  },
  {
   "cell_type": "code",
   "execution_count": 40,
   "metadata": {},
   "outputs": [],
   "source": [
    "airfoil = af.Airfoil.NACA4(\"4415\", n_points=200)\n",
    "af_xs, af_ys = airfoil.all_points\n",
    "plt.scatter(af_xs, af_ys, 1)\n",
    "plt.axis('scaled')\n",
    "\n",
    "alpha0 = -4 * np.pi / 180"
   ]
  },
  {
   "attachments": {},
   "cell_type": "markdown",
   "metadata": {},
   "source": [
    "# Wing Geometry"
   ]
  },
  {
   "cell_type": "code",
   "execution_count": 41,
   "metadata": {},
   "outputs": [],
   "source": [
    "def linSpan(sp, Ni):\n",
    "    return np.linspace(0, sp, Ni)\n",
    "\n",
    "def uniformChord(Ni, ch=1):\n",
    "    return ch * np.ones(Ni)"
   ]
  },
  {
   "cell_type": "code",
   "execution_count": 53,
   "metadata": {},
   "outputs": [],
   "source": [
    "N = 50\n",
    "M = 3\n",
    "%matplotlib qt\n",
    "wg = Wing(\n",
    "    airfoil=airfoil,\n",
    "    isSymmetric=True,\n",
    "    span=6,\n",
    "    alpha=2,\n",
    "    beta=0,\n",
    "    Ni=N,\n",
    "    Nj=M,\n",
    "    sweepOffset=0,\n",
    "    dihAngle=0,\n",
    "    chordFun=uniformChord,\n",
    "    spanFun=linSpan,\n",
    "    ground_clearence = 100\n",
    ")"
   ]
  },
  {
   "attachments": {},
   "cell_type": "markdown",
   "metadata": {},
   "source": [
    "## Wind"
   ]
  },
  {
   "cell_type": "code",
   "execution_count": 54,
   "metadata": {},
   "outputs": [],
   "source": [
    "Umag = 16\n",
    "dens = 1.2"
   ]
  },
  {
   "attachments": {},
   "cell_type": "markdown",
   "metadata": {},
   "source": [
    "# Ground Effect"
   ]
  },
  {
   "cell_type": "code",
   "execution_count": 55,
   "metadata": {},
   "outputs": [],
   "source": [
    "def ground_effect(x, y, z, i, j, panel):\n",
    "\n",
    "    U1, U1st = pot.hshoeSL2(x, y, z, i, j, panel)\n",
    "    U2 , U2st = pot.hshoeSL2(x, y, -z, i, j, panel)\n",
    "\n",
    "    U_ind = np.array([U1[0] + U2[0],\n",
    "                      U1[1] + U2[1],\n",
    "                      U1[2] - U2[2]])\n",
    "    U_ind_st = np.array([U1st[0] + U2st[0],\n",
    "                         U1st[1] + U2st[1],\n",
    "                         U1st[2] - U2st[2]])\n",
    "    return U_ind , U_ind_st"
   ]
  },
  {
   "cell_type": "code",
   "execution_count": 56,
   "metadata": {},
   "outputs": [
    {
     "name": "stdout",
     "output_type": "stream",
     "text": [
      "For the whole Wing\n",
      "L:443.074959209243\t|\tD:23.0295116449018\n",
      "CL:0.24038354991820912\t|\tCD_ind:0.006247154851590116\n"
     ]
    }
   ],
   "source": [
    "L_ge, D_ge, Gammas, w_ind = wg.solveWing(alpha0, Umag, dens, ground_effect)\n",
    "print(f\"For the whole Wing\\nL:{L_ge}\\t|\\tD:{2*D_ge}\")\n",
    "print(f\"CL:{L_ge/(dens*(Umag**2)*wg.wingArea)}\\t|\\tCD_ind:{D_ge/(dens*(Umag**2)*wg.wingArea)}\")"
   ]
  },
  {
   "cell_type": "code",
   "execution_count": 50,
   "metadata": {},
   "outputs": [],
   "source": [
    "LvsGdist = []\n",
    "DvsGdist = []\n",
    "GammavsGdist = []\n",
    "WindvsGdist = []\n",
    "groundDist = np.linspace(0.2, 20,20)\n",
    "for gDist in groundDist:\n",
    "    wg.set_groundClearence(gDist)\n",
    "    L , D , Gamma , w = wg.solveWing(alpha0,Umag,dens,ground_effect)\n",
    "    LvsGdist.append(L)\n",
    "    DvsGdist.append(D)\n",
    "    GammavsGdist.append(Gamma)\n",
    "    WindvsGdist.append(w)"
   ]
  },
  {
   "cell_type": "code",
   "execution_count": 52,
   "metadata": {},
   "outputs": [],
   "source": [
    "fig, (ax1, ax2, ax3) = plt.subplots(1, 3, figsize=(14, 6))\n",
    "fig.suptitle('Ground Distance effect on Lift And Drag')\n",
    "\n",
    "ax1.plot(groundDist, LvsGdist)\n",
    "ax1.set_xlabel(\"Ground Distance\")\n",
    "ax1.set_title(\"Lift\")\n",
    "ax1.minorticks_on()\n",
    "ax1.grid()\n",
    "\n",
    "ax2.plot(groundDist, DvsGdist)\n",
    "ax2.set_xlabel(\"Ground Distance\")\n",
    "ax2.set_title(\"Drag\")\n",
    "ax2.minorticks_on()\n",
    "ax2.grid()\n",
    "\n",
    "ax3.plot(groundDist, np.divide(LvsGdist, DvsGdist))\n",
    "ax3.set_xlabel(\"Ground Distance\")\n",
    "ax3.set_title(\"L/D\")\n",
    "ax3.minorticks_on()\n",
    "ax3.grid()\n",
    "\n",
    "fig.show()"
   ]
  },
  {
   "cell_type": "code",
   "execution_count": null,
   "metadata": {},
   "outputs": [],
   "source": []
  }
 ],
 "metadata": {
  "kernelspec": {
   "display_name": "aero",
   "language": "python",
   "name": "python3"
  },
  "language_info": {
   "codemirror_mode": {
    "name": "ipython",
    "version": 3
   },
   "file_extension": ".py",
   "mimetype": "text/x-python",
   "name": "python",
   "nbconvert_exporter": "python",
   "pygments_lexer": "ipython3",
   "version": "3.10.8"
  },
  "orig_nbformat": 4
 },
 "nbformat": 4,
 "nbformat_minor": 2
}
