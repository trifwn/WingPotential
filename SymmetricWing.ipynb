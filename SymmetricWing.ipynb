{
 "cells": [
  {
   "cell_type": "code",
   "execution_count": 1,
   "metadata": {},
   "outputs": [],
   "source": [
    "import airfoils as af\n",
    "import matplotlib.pyplot as plt\n",
    "import numpy as np\n",
    "import potential as pot\n",
    "%matplotlib qt\n",
    "from wing import Wing"
   ]
  },
  {
   "attachments": {},
   "cell_type": "markdown",
   "metadata": {},
   "source": [
    "# Airfoil"
   ]
  },
  {
   "cell_type": "code",
   "execution_count": 2,
   "metadata": {},
   "outputs": [],
   "source": [
    "airfoil = af.Airfoil.NACA4(\"4415\", n_points=200)\n",
    "af_xs, af_ys = airfoil.all_points\n",
    "plt.scatter(af_xs, af_ys, 1)\n",
    "plt.axis('scaled')\n",
    "\n",
    "alpha0 = -4 * np.pi / 180\n"
   ]
  },
  {
   "attachments": {},
   "cell_type": "markdown",
   "metadata": {},
   "source": [
    "# Wing Geometry"
   ]
  },
  {
   "cell_type": "code",
   "execution_count": 3,
   "metadata": {},
   "outputs": [],
   "source": [
    "def linSpan(sp, Ni):\n",
    "    return np.linspace(0, sp, Ni)\n",
    "\n",
    "\n",
    "def uniformChord(Ni, ch=1):\n",
    "    return ch * np.ones(Ni)\n"
   ]
  },
  {
   "cell_type": "code",
   "execution_count": 5,
   "metadata": {},
   "outputs": [],
   "source": [
    "N = 50\n",
    "M = 3\n",
    "wg = Wing(\n",
    "    airfoil=airfoil,\n",
    "    isSymmetric=True,\n",
    "    span=6,\n",
    "    alpha=2,\n",
    "    beta=0,\n",
    "    Ni=N,\n",
    "    Nj=M,\n",
    "    sweepAngle=0,\n",
    "    dihAngle=0,\n",
    "    chordFun=uniformChord,\n",
    "    spanFun=linSpan\n",
    ")"
   ]
  },
  {
   "cell_type": "code",
   "execution_count": 6,
   "metadata": {},
   "outputs": [],
   "source": [
    "Umag = 20\n",
    "alpha = 4.5 * np.pi/180\n",
    "beta = 0\n",
    "Uinf = Umag * np.cos(alpha) * np.cos(beta)\n",
    "Vinf = Umag * np.cos(alpha) * np.sin(beta)\n",
    "Winf = Umag * np.sin(alpha) * np.cos(beta)"
   ]
  },
  {
   "cell_type": "code",
   "execution_count": 7,
   "metadata": {},
   "outputs": [],
   "source": [
    "dens = 1.2\n",
    "wind = np.empty((N, M))\n",
    "alpha0 = -4 * np.pi / 180\n"
   ]
  },
  {
   "attachments": {},
   "cell_type": "markdown",
   "metadata": {},
   "source": [
    "# Symmetric Wing"
   ]
  },
  {
   "cell_type": "code",
   "execution_count": 12,
   "metadata": {},
   "outputs": [],
   "source": [
    "def symm_wing(x, y, z, i, j, panel):\n",
    "\n",
    "    Ui = pot.hshoeSL2(x, y, z, i, j, panel, 1.)\n",
    "    Uii = pot.hshoeSL2(x, -y, z, i, j, panel, 1.)\n",
    "\n",
    "    U_ind = np.array([Ui[0] + Uii[0],\n",
    "                      Ui[1] - Uii[1],\n",
    "                      Ui[2] + Ui[2]])\n",
    "    return U_ind"
   ]
  },
  {
   "cell_type": "code",
   "execution_count": 13,
   "metadata": {},
   "outputs": [
    {
     "data": {
      "text/plain": [
       "(50, 3, 3)"
      ]
     },
     "execution_count": 13,
     "metadata": {},
     "output_type": "execute_result"
    }
   ],
   "source": [
    "wg.grid.shape"
   ]
  },
  {
   "cell_type": "code",
   "execution_count": 15,
   "metadata": {},
   "outputs": [
    {
     "name": "stdout",
     "output_type": "stream",
     "text": [
      "L:559.8542308418739\t|\tD:22.534389734464025\n",
      "CL:0.3887876603068569\t|\tCD_ind:0.01564888176004446\n"
     ]
    }
   ],
   "source": [
    "a = np.zeros(((N-1)*(M-2), (N-1)*(M-2)))\n",
    "infMat = np.zeros(((N-1)*(M-2), (N-1)*(M-2)))\n",
    "\n",
    "RHS = np.zeros((N-1)*(M-2))\n",
    "w_ind = np.zeros((N-1, 3))\n",
    "L_pan = np.zeros((N-1))\n",
    "D_pan = np.zeros((N-1))\n",
    "\n",
    "for i in np.arange(0, N-1):\n",
    "    RHS[i] = np.pi * (wg.alpha - alpha0) * wg.Dchord[i] * Umag\n",
    "    for j in np.arange(0, N-1):\n",
    "        k = 0\n",
    "        U = symm_wing((wg.grid[i, 0, 0] + wg.grid[i+1, 0, 0])/2,\n",
    "                      (wg.grid[i, 0, 1] + wg.grid[i+1, 0, 1])/2,\n",
    "                      (wg.grid[i, 0, 2] + wg.grid[i+1, 0, 2])/2,\n",
    "                      k,j, wg.grid)\n",
    "        a[i, j] = np.dot(wg.nj[i], U)\n",
    "        infMat[i, j] = - a[i, j] * wg.Dchord[i] * np.pi\n",
    "    infMat[i, i] = infMat[i, i] + 1\n",
    "\n",
    "Gammas = np.linalg.solve(infMat, RHS)\n",
    "w_ind = np.matmul(a, Gammas)\n",
    "\n",
    "wingArea = 0\n",
    "for i in np.arange(0, N-1):\n",
    "    L_pan[i] = dens * Umag * Gammas[i] * \\\n",
    "        (wg.grid[i+1, 0, 1] - wg.grid[i, 0, 1])\n",
    "    D_pan[i] = - dens * w_ind[i] * Gammas[i] * \\\n",
    "        (wg.grid[i+1, 0, 1] - wg.grid[i, 0, 1])\n",
    "    wingArea += (wg.grid[i+1, 0, 1] - wg.grid[i, 0, 1]) * wg.Dchord[i]\n",
    "L_DoubleTrouble = np.sum(L_pan)\n",
    "D_DoubleTrouble = np.sum(D_pan)\n",
    "\n",
    "print(f\"L:{L_DoubleTrouble}\\t|\\tD:{D_DoubleTrouble}\")\n",
    "print(f\"CL:{2*L_DoubleTrouble/(dens*(Umag**2)*wingArea)}\\t|\\tCD_ind:{2*D_DoubleTrouble/(dens*(Umag**2)*wingArea)}\")\n"
   ]
  },
  {
   "cell_type": "code",
   "execution_count": 16,
   "metadata": {},
   "outputs": [],
   "source": [
    "fig, (ax1, ax2) = plt.subplots(1, 2, figsize=(14, 6))\n",
    "fig.suptitle('Results')\n",
    "\n",
    "ax1.plot(Gammas)\n",
    "ax1.set_xlabel(\"span\")\n",
    "ax1.set_title(\"Gamma\")\n",
    "ax1.minorticks_on()\n",
    "ax1.grid()\n",
    "\n",
    "ax2.plot((w_ind/Umag) * 180 / np.pi)\n",
    "ax2.set_xlabel(\"span\")\n",
    "ax2.set_title(\"w_ind\")\n",
    "ax2.minorticks_on()\n",
    "ax2.grid()\n",
    "fig.show()"
   ]
  },
  {
   "cell_type": "code",
   "execution_count": null,
   "metadata": {},
   "outputs": [],
   "source": []
  }
 ],
 "metadata": {
  "kernelspec": {
   "display_name": "aero",
   "language": "python",
   "name": "python3"
  },
  "language_info": {
   "codemirror_mode": {
    "name": "ipython",
    "version": 3
   },
   "file_extension": ".py",
   "mimetype": "text/x-python",
   "name": "python",
   "nbconvert_exporter": "python",
   "pygments_lexer": "ipython3",
   "version": "3.10.8"
  },
  "orig_nbformat": 4
 },
 "nbformat": 4,
 "nbformat_minor": 2
}
