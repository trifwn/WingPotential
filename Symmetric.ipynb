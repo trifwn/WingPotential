{
 "cells": [
  {
   "cell_type": "code",
   "execution_count": 65,
   "metadata": {},
   "outputs": [],
   "source": [
    "import airfoils as af\n",
    "import matplotlib.pyplot as plt\n",
    "import numpy as np\n",
    "import potential as pot\n",
    "from wing import Wing"
   ]
  },
  {
   "attachments": {},
   "cell_type": "markdown",
   "metadata": {},
   "source": [
    "# Airfoil"
   ]
  },
  {
   "cell_type": "code",
   "execution_count": 66,
   "metadata": {},
   "outputs": [],
   "source": [
    "airfoil = af.Airfoil.NACA4(\"2412\", n_points=200)\n",
    "af_xs, af_ys = airfoil.all_points\n",
    "plt.scatter(af_xs, af_ys, 1)\n",
    "plt.axis('scaled')\n",
    "\n",
    "alpha0 = -2 * np.pi / 180"
   ]
  },
  {
   "attachments": {},
   "cell_type": "markdown",
   "metadata": {},
   "source": [
    "# Wing Geometry"
   ]
  },
  {
   "cell_type": "code",
   "execution_count": 67,
   "metadata": {},
   "outputs": [],
   "source": [
    "def linSpan(sp, Ni):\n",
    "    return np.linspace(0, sp, Ni)\n",
    "\n",
    "def uniformChord(Ni, ch=1):\n",
    "    return ch * np.ones(Ni)"
   ]
  },
  {
   "cell_type": "code",
   "execution_count": 68,
   "metadata": {},
   "outputs": [],
   "source": [
    "N = 51\n",
    "M = 3\n",
    "%matplotlib qt\n",
    "wg = Wing(\n",
    "    airfoil=airfoil,\n",
    "    isSymmetric=False,\n",
    "    span=6/2,\n",
    "    alpha=2,\n",
    "    beta=0,\n",
    "    Ni=N,\n",
    "    Nj=M,\n",
    "    sweepOffset=0,\n",
    "    dihAngle=0,\n",
    "    chordFun=uniformChord,\n",
    "    spanFun=linSpan\n",
    ")"
   ]
  },
  {
   "attachments": {},
   "cell_type": "markdown",
   "metadata": {},
   "source": [
    "## Wind"
   ]
  },
  {
   "cell_type": "code",
   "execution_count": 69,
   "metadata": {},
   "outputs": [],
   "source": [
    "Umag = 16\n",
    "dens = 1.2"
   ]
  },
  {
   "attachments": {},
   "cell_type": "markdown",
   "metadata": {},
   "source": [
    "# Symmetric Wing"
   ]
  },
  {
   "cell_type": "code",
   "execution_count": 70,
   "metadata": {},
   "outputs": [],
   "source": [
    "def symm_wing(x, y, z, i, j, panel):\n",
    "\n",
    "    U1, U1st = pot.hshoeSL2(x, y, z, i, j, panel)\n",
    "    U2 , U2st = pot.hshoeSL2(x, -y, z, i, j, panel)\n",
    "\n",
    "    U_ind = np.array([U1[0] + U2[0],\n",
    "                      U1[1] - U2[1],\n",
    "                      U1[2] + U2[2]])\n",
    "    U_ind_st = np.array([U1st[0] + U2st[0],\n",
    "                         U1st[1] - U2st[1],\n",
    "                         U1st[2] + U2st[2]])\n",
    "    return U_ind , U_ind_st"
   ]
  },
  {
   "cell_type": "code",
   "execution_count": 71,
   "metadata": {},
   "outputs": [
    {
     "name": "stdout",
     "output_type": "stream",
     "text": [
      "For the whole Wing\n",
      "L:293.6589808788896\t|\tD:5.119690380145868\n",
      "CL:0.15932019361918925\t|\tCD_ind:0.002777609798256222\n"
     ]
    }
   ],
   "source": [
    "L_sym, D_sym, Gammas, w_ind = wg.solveWing(alpha0, Umag, dens, symm_wing)\n",
    "print(f\"For the whole Wing\\nL:{2*L_sym}\\t|\\tD:{2*D_sym}\")\n",
    "print(f\"CL:{L_sym/(dens*(Umag**2)*wg.wingArea)}\\t|\\tCD_ind:{D_sym/(dens*(Umag**2)*wg.wingArea)}\")\n"
   ]
  },
  {
   "cell_type": "code",
   "execution_count": 72,
   "metadata": {},
   "outputs": [],
   "source": [
    "LvsSweep = []\n",
    "DvsSweep = []\n",
    "GammavsSweep = []\n",
    "WindvsSweep = []\n",
    "offsets = np.linspace(0, 3,10)\n",
    "for offset in offsets:\n",
    "    wg.set_offset(offset)\n",
    "    L , D , Gamma , w = wg.solveWing(alpha0,Umag,dens,symm_wing)\n",
    "    LvsSweep.append(L)\n",
    "    DvsSweep.append(D)\n",
    "    GammavsSweep.append(Gamma)\n",
    "    WindvsSweep.append(w)\n",
    "    \n",
    "LvsSweep = np.array(LvsSweep)\n",
    "DvsSweep = np.array(DvsSweep)\n",
    "GammavsSweep = np.array(GammavsSweep)\n",
    "WindvsSweep = np.array(WindvsSweep)\n"
   ]
  },
  {
   "cell_type": "code",
   "execution_count": null,
   "metadata": {},
   "outputs": [],
   "source": [
    "fig, (ax1, ax2, ax3) = plt.subplots(1, 3, figsize=(14, 6))\n",
    "fig.suptitle('Sweep effect on Lift And Drag')\n",
    "\n",
    "ax1.plot(offsets, 2* LvsSweep)\n",
    "ax1.set_xlabel(\"Sweep Offset\")\n",
    "ax1.set_title(\"Lift\")\n",
    "ax1.minorticks_on()\n",
    "ax1.grid()\n",
    "\n",
    "ax2.plot(offsets, 2*DvsSweep)\n",
    "ax2.set_xlabel(\"Sweep Offset\")\n",
    "ax2.set_title(\"Drag\")\n",
    "ax2.minorticks_on()\n",
    "ax2.grid()\n",
    "\n",
    "ax3.plot(offsets, LvsSweep / DvsSweep)\n",
    "ax3.set_xlabel(\"Sweep Offset\")\n",
    "ax3.set_title(\"L/D\")\n",
    "ax3.minorticks_on()\n",
    "ax3.grid()\n",
    "\n",
    "fig.show()"
   ]
  },
  {
   "cell_type": "code",
   "execution_count": null,
   "metadata": {},
   "outputs": [],
   "source": [
    "fig, (ax1, ax2) = plt.subplots(1, 2, figsize=(14, 6))\n",
    "fig.suptitle('Results')\n",
    "for i, offset in enumerate(offsets):\n",
    "    ax1.plot((wg.Dspan[1:] + wg.Dspan[:-1])/2, GammavsSweep[i], label=\"offset {:.2f}\".format(offset))\n",
    "    ax1.plot(-(wg.Dspan[1:] + wg.Dspan[:-1])/2, GammavsSweep[i])\n",
    "\n",
    "    ax1.set_xlabel(\"span\")\n",
    "    ax1.set_title(\"Gamma\")\n",
    "\n",
    "    # (w_ind/Umag) * 180 / np.pi)\n",
    "    ax2.plot((wg.Dspan[1:] + wg.Dspan[:-1])/2, WindvsSweep[i], label=\"offset {:.2f}\".format(offset))\n",
    "    ax2.plot(-(wg.Dspan[1:] + wg.Dspan[:-1])/2, WindvsSweep[i] )\n",
    "\n",
    "    ax2.set_xlabel(\"span\")\n",
    "    ax2.set_title(\"w_ind\")\n",
    "ax1.legend(loc=\"lower right\")\n",
    "ax1.grid(which='minor', linewidth=0.1)\n",
    "ax1.grid(which='major', linewidth=1)\n",
    "ax1.minorticks_on()\n",
    "\n",
    "ax2.legend(loc=\"upper right\")\n",
    "ax2.grid(which='minor', linewidth = 0.1)\n",
    "ax2.grid(which='major', linewidth = 1)\n",
    "ax2.minorticks_on()\n",
    "fig.show()"
   ]
  },
  {
   "cell_type": "code",
   "execution_count": null,
   "metadata": {},
   "outputs": [],
   "source": [
    "LvsAOA = []\n",
    "DvsAOA = []\n",
    "GammavsAOA = []\n",
    "WindvsAOA = []\n",
    "angles = np.arange(-5, 15)\n",
    "wg.set_offset(0)\n",
    "\n",
    "for angle in angles:\n",
    "    wg.set_alpha(angle)\n",
    "    L, D, Gamma, w = wg.solveWing(alpha0, Umag, dens, symm_wing)\n",
    "    LvsAOA.append(L)\n",
    "    DvsAOA.append(D)\n",
    "    GammavsAOA.append(Gamma)\n",
    "    WindvsAOA.append(w)\n",
    "    \n",
    "LvsAOA = np.array(LvsAOA)\n",
    "DvsAOA = np.array(DvsAOA)\n",
    "GammavsAOA = np.array(GammavsAOA)\n",
    "WindvsAOA = np.array(WindvsAOA)\n"
   ]
  },
  {
   "cell_type": "code",
   "execution_count": null,
   "metadata": {},
   "outputs": [],
   "source": [
    "fig, (ax1, ax2) = plt.subplots(1, 2, figsize=(14, 6))\n",
    "fig.suptitle('Angle of Attack Effect on Lift And Drag')\n",
    "\n",
    "ax1.plot(angles, 2*LvsAOA)\n",
    "ax1.set_xlabel(\"AoA\")\n",
    "ax1.set_title(\"Lift\")\n",
    "ax1.minorticks_on()\n",
    "ax1.grid()\n",
    "\n",
    "ax2.plot(angles, 2*DvsAOA)\n",
    "ax2.set_xlabel(\"AoA\")\n",
    "ax2.set_title(\"Drag\")\n",
    "ax2.minorticks_on()\n",
    "ax2.grid()\n",
    "fig.show()"
   ]
  },
  {
   "cell_type": "code",
   "execution_count": null,
   "metadata": {},
   "outputs": [],
   "source": []
  }
 ],
 "metadata": {
  "kernelspec": {
   "display_name": "aero",
   "language": "python",
   "name": "python3"
  },
  "language_info": {
   "codemirror_mode": {
    "name": "ipython",
    "version": 3
   },
   "file_extension": ".py",
   "mimetype": "text/x-python",
   "name": "python",
   "nbconvert_exporter": "python",
   "pygments_lexer": "ipython3",
   "version": "3.10.8"
  },
  "orig_nbformat": 4
 },
 "nbformat": 4,
 "nbformat_minor": 2
}
