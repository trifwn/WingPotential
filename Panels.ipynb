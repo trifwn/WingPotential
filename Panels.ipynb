{
 "cells": [
  {
   "cell_type": "code",
   "execution_count": 15,
   "metadata": {},
   "outputs": [],
   "source": [
    "import airfoils as af\n",
    "import matplotlib.pyplot as plt\n",
    "import numpy as np\n",
    "import potential as pot\n",
    "from wing import Wing\n"
   ]
  },
  {
   "attachments": {},
   "cell_type": "markdown",
   "metadata": {},
   "source": [
    "# Airfoil"
   ]
  },
  {
   "cell_type": "code",
   "execution_count": 16,
   "metadata": {},
   "outputs": [
    {
     "data": {
      "text/plain": [
       "(-0.05, 1.05, -0.049713357925077785, 0.12146580378039586)"
      ]
     },
     "execution_count": 16,
     "metadata": {},
     "output_type": "execute_result"
    },
    {
     "data": {
      "image/png": "[encoded data removed]",
      "text/plain": [
       "<Figure size 640x480 with 1 Axes>"
      ]
     },
     "metadata": {},
     "output_type": "display_data"
    }
   ],
   "source": [
    "airfoil = af.Airfoil.NACA4(\"4415\", n_points=200)\n",
    "af_xs, af_ys = airfoil.all_points\n",
    "plt.scatter(af_xs, af_ys, 1)\n",
    "plt.axis('scaled')"
   ]
  },
  {
   "attachments": {},
   "cell_type": "markdown",
   "metadata": {},
   "source": [
    "# Wing Geometry"
   ]
  },
  {
   "cell_type": "code",
   "execution_count": 17,
   "metadata": {},
   "outputs": [],
   "source": [
    "def linSpan(sp, Ni):\n",
    "    return np.linspace(0, sp, Ni)\n",
    "\n",
    "\n",
    "def uniformChord(Ni, ch=1):\n",
    "    return ch * np.ones(Ni)\n"
   ]
  },
  {
   "cell_type": "code",
   "execution_count": 18,
   "metadata": {},
   "outputs": [],
   "source": [
    "N = 20\n",
    "M = 20\n",
    "wg = Wing(\n",
    "    airfoil=airfoil,\n",
    "    isSymmetric=True,\n",
    "    span=6,\n",
    "    alpha=5,\n",
    "    beta=0,\n",
    "    Ni=N,\n",
    "    Nj=M,\n",
    "    sweepOffset=0,\n",
    "    dihAngle=0,\n",
    "    chordFun=uniformChord,\n",
    "    spanFun=linSpan\n",
    ")\n",
    "# wg.plotgrid()\n"
   ]
  },
  {
   "attachments": {},
   "cell_type": "markdown",
   "metadata": {},
   "source": [
    "## Wind"
   ]
  },
  {
   "cell_type": "code",
   "execution_count": 19,
   "metadata": {},
   "outputs": [],
   "source": [
    "Umag = 20\n",
    "dens = 1.225\n",
    "Uinf = Umag * np.cos(wg.alpha) * np.cos(wg.beta)\n",
    "Vinf = Umag * np.cos(wg.alpha) * np.sin(wg.beta)\n",
    "Winf = Umag * np.sin(wg.alpha) * np.cos(wg.beta)\n",
    "Q = np.array((Uinf, Vinf, Winf))\n"
   ]
  },
  {
   "attachments": {},
   "cell_type": "markdown",
   "metadata": {},
   "source": [
    "## Solve"
   ]
  },
  {
   "cell_type": "code",
   "execution_count": 20,
   "metadata": {},
   "outputs": [],
   "source": [
    "a_np = np.zeros(((N-1)*(M-1), (N-1)*(M-1)))\n",
    "b_np = np.zeros(((N-1)*(M-2), (N-1)*(M-2)))\n",
    "RHS_np = np.zeros((N-1)*(M-1))\n",
    "\n",
    "for i in np.arange(0, (N-1)*(M-1)):\n",
    "    lp, kp = divmod(i, (M-1))\n",
    "    if kp == M-2:\n",
    "        RHS_np[i] = 0\n",
    "        a_np[i, i] = 1\n",
    "        a_np[i, i-1] = -1\n",
    "        continue\n",
    "    RHS_np[i] = - np.dot(Q, wg.control_nj[lp, kp])\n",
    "    for j in np.arange(0, (N-1)*(M-1)):\n",
    "        l, k = divmod(j, (M-1))\n",
    "        if k == M-2:\n",
    "            U, Ustar = pot.voring(wg.controlP[lp, kp, 0],\n",
    "                                wg.controlP[lp, kp, 1],\n",
    "                                wg.controlP[lp, kp, 2],\n",
    "                                l, k, wg.grid)\n",
    "        else:\n",
    "            U, Ustar = pot.voring(wg.controlP[lp, kp, 0],\n",
    "                                wg.controlP[lp, kp, 1],\n",
    "                                wg.controlP[lp, kp, 2],\n",
    "                                l, k, wg.grid)\n",
    "\n",
    "            l1, k1 = divmod(i, (M-2))\n",
    "            l2, k2 = divmod(j, (M-2))\n",
    "            b_np[l1*(M-2) -lp  + k1, l2 *(M-2) -l + k2] = np.dot(Ustar, wg.control_nj[lp, kp])\n",
    "\n",
    "        a_np[i, j] = np.dot(U, wg.control_nj[lp, kp])"
   ]
  },
  {
   "cell_type": "code",
   "execution_count": 21,
   "metadata": {},
   "outputs": [],
   "source": [
    "Gammas = np.linalg.solve(a_np, RHS_np)\n",
    "Gammas_mat = Gammas.reshape((N-1, M-1))[:, :-1]\n",
    "Gammas = Gammas_mat.reshape(((N-1)*(M-2)))\n",
    "w = np.matmul(b_np, Gammas)\n",
    "w_mat = w.reshape((N-1, M-2))"
   ]
  },
  {
   "cell_type": "code",
   "execution_count": 22,
   "metadata": {},
   "outputs": [],
   "source": [
    "L_pan = np.zeros((N-1, M-2))\n",
    "D_pan = np.zeros((N-1, M-2))\n",
    "for i in np.arange(0, N-1):\n",
    "    for j in np.arange(0, M-2):\n",
    "        dy = wg.grid[i+1, j, 1] - wg.grid[i, j, 1]\n",
    "        if j == 0:\n",
    "            g = (Gammas_mat[i, j+1] - Gammas_mat[i, j])\n",
    "        else:\n",
    "            g = (Gammas_mat[i, j] - Gammas_mat[i, j-1])\n",
    "        L_pan[i, j] = dens * Umag * dy * g\n",
    "        D_pan[i, j] = -0.5 * dens * w_mat[i, j] * dy * g"
   ]
  },
  {
   "cell_type": "code",
   "execution_count": 23,
   "metadata": {},
   "outputs": [
    {
     "name": "stdout",
     "output_type": "stream",
     "text": [
      "Using No Penetration\n",
      "L:914.1079305412828\t|\tD:112.28700523085537\n",
      "CL:0.3109210648099601\t|\tCD_ind:0.03819285892205965\n"
     ]
    }
   ],
   "source": [
    "L = np.sum(L_pan)\n",
    "D = np.sum(D_pan)\n",
    "print(f\"Using No Penetration\\nL:{L}\\t|\\tD:{D}\")\n",
    "print(f\"CL:{L/(dens*(Umag**2)*wg.wingArea)}\\t|\\tCD_ind:{D/(dens*(Umag**2)*wg.wingArea)}\")\n"
   ]
  },
  {
   "cell_type": "code",
   "execution_count": 24,
   "metadata": {},
   "outputs": [
    {
     "name": "stdout",
     "output_type": "stream",
     "text": [
      "Using No Penetration\n",
      "L:914.1079305412828\t|\tD:32.75425589243821\n",
      "CL:0.3109210648099601\t|\tCD_ind:0.0111409033647749\n"
     ]
    }
   ],
   "source": [
    "Dnew = np.zeros((N-1, M-2))\n",
    "Gammas = np.linalg.solve(a_np, RHS_np)\n",
    "Gammas_mat = Gammas.reshape((N-1, M-1))\n",
    "\n",
    "for i in np.arange(0, N-1):\n",
    "    for j in np.arange(0, M-2):\n",
    "        dy = wg.grid[i+1, j, 1] - wg.grid[i, j, 1]\n",
    "        if j == 0:\n",
    "            g = (Gammas_mat[i, j+1] - Gammas_mat[i, j])\n",
    "        else:\n",
    "            g = (Gammas_mat[i, j] - Gammas_mat[i, j-1])\n",
    "        U = 0\n",
    "        _, Ui = wg.InducedVelocities(pot.voring,i,j,Gammas_mat)\n",
    "        \n",
    "        alfi = Ui[2] / Umag\n",
    "        Dnew[i,j] = -dens * dy * Umag * g * alfi\n",
    "D = np.sum(Dnew)\n",
    "print(f\"Using No Penetration\\nL:{L}\\t|\\tD:{D}\")\n",
    "print(f\"CL:{L/(dens*(Umag**2)*wg.wingArea)}\\t|\\tCD_ind:{D/(dens*(Umag**2)*wg.wingArea)}\")\n"
   ]
  },
  {
   "cell_type": "code",
   "execution_count": null,
   "metadata": {},
   "outputs": [],
   "source": []
  }
 ],
 "metadata": {
  "kernelspec": {
   "display_name": "aero",
   "language": "python",
   "name": "python3"
  },
  "language_info": {
   "codemirror_mode": {
    "name": "ipython",
    "version": 3
   },
   "file_extension": ".py",
   "mimetype": "text/x-python",
   "name": "python",
   "nbconvert_exporter": "python",
   "pygments_lexer": "ipython3",
   "version": "3.10.8"
  },
  "orig_nbformat": 4
 },
 "nbformat": 4,
 "nbformat_minor": 2
}
